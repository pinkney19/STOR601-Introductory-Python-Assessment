{
 "cells": [
  {
   "cell_type": "markdown",
   "id": "091679d3",
   "metadata": {},
   "source": [
    "# STOR601 - Introductory Python Assessment"
   ]
  },
  {
   "cell_type": "markdown",
   "id": "acd7d4ef",
   "metadata": {},
   "source": [
    "All code was tested in Python 3.9.7 using jupyter notebook version 6.4.4 and windows 10 education OS build 19043.1415."
   ]
  },
  {
   "cell_type": "code",
   "execution_count": 99,
   "id": "fee9f2a2",
   "metadata": {},
   "outputs": [],
   "source": [
    "#set random number seed so that results are repeatable\n",
    "import random\n",
    "random.seed(1234)"
   ]
  },
  {
   "cell_type": "markdown",
   "id": "81e00a68",
   "metadata": {},
   "source": [
    "## Task 1\n",
    "## (a)\n",
    "\n",
    "Write a function that determines the number of '1s' in the binary representation of a positive integer.\n"
   ]
  },
  {
   "cell_type": "markdown",
   "id": "47003eab",
   "metadata": {},
   "source": [
    "### Function Description (for Replicability)\n",
    "\n",
    "##### Purpose: \n",
    "This function is used to determine the number of 1s in a binary representation of a positive number.\n",
    "##### Inputs: \n",
    "base 10 representation of an integer\n",
    "##### Method: \n",
    "- finds binary representation using bin function \n",
    "- Then counts number of ones in the string\n",
    "\n",
    "##### Outputs: \n",
    "returns count as an integer "
   ]
  },
  {
   "cell_type": "code",
   "execution_count": 60,
   "id": "6a36b44d",
   "metadata": {},
   "outputs": [],
   "source": [
    "def f(int): #input any integer\n",
    "    b = bin(int) #bin() function returns the binary string of a given integer.\n",
    "    count = b.count('1') #count number of ones in the string\n",
    "    return(count)"
   ]
  },
  {
   "cell_type": "markdown",
   "id": "2dd58d88",
   "metadata": {},
   "source": [
    "We check this code is correct by testing it on the number 10:"
   ]
  },
  {
   "cell_type": "code",
   "execution_count": 61,
   "id": "b57a4bc8",
   "metadata": {},
   "outputs": [
    {
     "data": {
      "text/plain": [
       "2"
      ]
     },
     "execution_count": 61,
     "metadata": {},
     "output_type": "execute_result"
    }
   ],
   "source": [
    "f(10)"
   ]
  },
  {
   "cell_type": "markdown",
   "id": "c8c320d3",
   "metadata": {},
   "source": [
    "## (b)\n",
    "\n",
    "Write a function that determines which bits of the binary representation of a positive integer are ‘1s’."
   ]
  },
  {
   "cell_type": "markdown",
   "id": "854ca188",
   "metadata": {},
   "source": [
    "### Function Description (for Replicability)\n",
    "\n",
    "##### Purpose: \n",
    "This function is used to determine  which bits of the binary representation of a positive integer are ‘1s’.\n",
    "##### Inputs: \n",
    "base 10 representation of an integer\n",
    "##### Method: \n",
    "- finds binary representation using bin function \n",
    "- changes structure of representation to list so we can extract position of the '1s'\n",
    "- get indices of '1s' in the list.\n",
    "\n",
    "##### Outputs: \n",
    "\n",
    "returns list "
   ]
  },
  {
   "cell_type": "code",
   "execution_count": 62,
   "id": "a4813e13",
   "metadata": {},
   "outputs": [],
   "source": [
    "def g(int):\n",
    "    b = bin(int).replace(\"0b\",\"\") #gets binary string of given integer as before but also removes \"0b\" prefix \n",
    "    b = list(b) #changes structure of b to list so we can extract position of the '1s'\n",
    "    indices = [i for i, x in enumerate(b) if x == \"1\"] #get position of '1s' in the list\n",
    "    return(indices)"
   ]
  },
  {
   "cell_type": "code",
   "execution_count": 63,
   "id": "abefecb1",
   "metadata": {},
   "outputs": [
    {
     "data": {
      "text/plain": [
       "[0, 2]"
      ]
     },
     "execution_count": 63,
     "metadata": {},
     "output_type": "execute_result"
    }
   ],
   "source": [
    "g(10)"
   ]
  },
  {
   "cell_type": "markdown",
   "id": "81d36286",
   "metadata": {},
   "source": [
    "We can check if this is correct by comparing it to the binary representation of the integer. Taking the integer 10 as an example, we have the binary representation as 1010 (shown below). Therefore, if we index from 0 (as python does) it is clear that the '1s' are in position 0 and 2."
   ]
  },
  {
   "cell_type": "code",
   "execution_count": 64,
   "id": "5838e5ad",
   "metadata": {},
   "outputs": [
    {
     "data": {
      "text/plain": [
       "'1010'"
      ]
     },
     "execution_count": 64,
     "metadata": {},
     "output_type": "execute_result"
    }
   ],
   "source": [
    "bin(10).replace(\"0b\",\"\")"
   ]
  },
  {
   "cell_type": "markdown",
   "id": "896f8357",
   "metadata": {},
   "source": [
    "## (c) \n",
    "Given 2k people, how many ways are there of organising them into two equal sized teams ? Write a function to calculate this number.\n"
   ]
  },
  {
   "cell_type": "markdown",
   "id": "f60589b3",
   "metadata": {},
   "source": [
    "We choose to use the comb method from the math library in python. In our case, this returns the number of ways of picking k unordered outcomes from 2k possibilities, without repetition, also known as combinations. "
   ]
  },
  {
   "cell_type": "markdown",
   "id": "92de6aa8",
   "metadata": {},
   "source": [
    "### Function Description (for Replicability)\n",
    "\n",
    "##### Purpose: \n",
    "This function is used to determine the number of ways to to organise 2k people into two equal sized teams\n",
    "##### Inputs: \n",
    "k\n",
    "##### Method: \n",
    "- uses comb from math to calculate 2k choose k\n",
    "\n",
    "##### Outputs: \n",
    "returns integer number of pairs "
   ]
  },
  {
   "cell_type": "code",
   "execution_count": 95,
   "id": "2da4ae02",
   "metadata": {},
   "outputs": [],
   "source": [
    "from math import comb\n",
    "def h(k):\n",
    "    return(comb(2*k,k)//2) #2k choose k"
   ]
  },
  {
   "cell_type": "markdown",
   "id": "9f386b95",
   "metadata": {},
   "source": [
    "This is easily verified by choosing k=2. i.e. we check the number of ways to pick 2 elements from 4. Say we have the list [1,2,3,4]. The possible teams are ({1,2},{3,4}), ({1,3},{2,4}), ({1,4},{2,3}). Therefore, the output should be 3.\n",
    "Since our code returns the number 3 we can be satisfied it is working correctly."
   ]
  },
  {
   "cell_type": "code",
   "execution_count": 97,
   "id": "f7740fe0",
   "metadata": {},
   "outputs": [
    {
     "data": {
      "text/plain": [
       "3"
      ]
     },
     "execution_count": 97,
     "metadata": {},
     "output_type": "execute_result"
    }
   ],
   "source": [
    "#Quick check\n",
    "h(2)"
   ]
  },
  {
   "cell_type": "markdown",
   "id": "a1a4703f",
   "metadata": {},
   "source": [
    "## (d) \n",
    "Given a list of 2k distinct people, write a function to generate all the possible pairs of teams of size k."
   ]
  },
  {
   "cell_type": "markdown",
   "id": "269c8fea",
   "metadata": {},
   "source": [
    "### Function Description (for Replicability)\n",
    "\n",
    "##### Purpose: \n",
    "This function is used to generate all the possible pairs of teams of size k.\n",
    "##### Inputs: \n",
    "k\n",
    "##### Method: \n",
    "- get list of integers in range from 1,...,2k\n",
    "- use combinations from itertools to find all selections of size k without repetitions\n",
    "- pair teams together \n",
    "\n",
    "##### Outputs: \n",
    "\n",
    "returns list of teams"
   ]
  },
  {
   "cell_type": "code",
   "execution_count": 67,
   "id": "59a0d837",
   "metadata": {},
   "outputs": [],
   "source": [
    "from itertools import combinations\n",
    "def j(k) :\n",
    "    my_list = [i+1 for i in range(2*k)] #get list of integers in range from 1,...,2k\n",
    "    comb = list(combinations(my_list,k)) #return list of all possible combinations of k elements from my_list\n",
    "    teams = [(comb[i], comb[len(comb)-(i+1)]) for i in range(len(comb)//2)] #pairs the first k-tuple with the last. \n",
    "    #need to divide by 2 to avoid duplicates. i.e. avoid [(1,2),(3,4) and (3,4),(1,2)]\n",
    "    return(teams) #returns possible pairs of teams of size k."
   ]
  },
  {
   "cell_type": "markdown",
   "id": "94c7d4fa",
   "metadata": {},
   "source": [
    "Quick check for k=2:"
   ]
  },
  {
   "cell_type": "code",
   "execution_count": 68,
   "id": "0c284750",
   "metadata": {},
   "outputs": [
    {
     "name": "stdout",
     "output_type": "stream",
     "text": [
      "[((1, 2), (3, 4)), ((1, 3), (2, 4)), ((1, 4), (2, 3))]\n"
     ]
    }
   ],
   "source": [
    "print(j(2))"
   ]
  },
  {
   "cell_type": "markdown",
   "id": "a59e70af",
   "metadata": {},
   "source": [
    "## Task 2\n",
    "## (a)\n",
    "What python data structure(s) would you use to represent the two “preference tables” introduced on page 1? Explain and justify your choice."
   ]
  },
  {
   "cell_type": "markdown",
   "id": "65411af7",
   "metadata": {},
   "source": [
    "### Answer\n",
    "I would use a python dictionary to represent the two preference tables introudced on page 1. \n",
    "Take the male preference table as an example. Representing the data as a python dictionary allows us to store the names of the men as keys and their preferences as values. Storing the data in this way (i.e. key-value pairs) we have that each value (say list of female preference order) is mapped with a key (man).\n",
    "\n",
    "I choose to use a dictionary to represent the preference tables it will make it easy to extract the preference order (value) of a particular man using his name (key).\n",
    "Also, dictionaries are both mutable and iterable which is helpful for this particular coding exercise.\n",
    "\n",
    "An example of how we might set this up for the male preference table is shown below:"
   ]
  },
  {
   "cell_type": "code",
   "execution_count": 69,
   "id": "4dfc9e99",
   "metadata": {},
   "outputs": [
    {
     "name": "stdout",
     "output_type": "stream",
     "text": [
      "{'A': ['c', 'b', 'd', 'a'], 'B': ['b', 'a', 'c', 'd'], 'C': ['b', 'd', 'a', 'c'], 'D': ['c', 'a', 'd', 'b']}\n"
     ]
    }
   ],
   "source": [
    "#Example\n",
    "D = {}\n",
    "D['A'] = ['c','b','d','a']\n",
    "D['B'] = ['b','a','c','d']\n",
    "D['C'] = ['b','d','a','c']\n",
    "D['D'] = ['c','a','d','b']\n",
    "print(D)\n"
   ]
  },
  {
   "cell_type": "markdown",
   "id": "985b0b66",
   "metadata": {},
   "source": [
    "To show how easy it is to extract Anatole's (i.e. 'A's) order of preference we supply the following code. Note that this matches that given on page 1 of the paper."
   ]
  },
  {
   "cell_type": "code",
   "execution_count": 70,
   "id": "36043185",
   "metadata": {},
   "outputs": [
    {
     "name": "stdout",
     "output_type": "stream",
     "text": [
      "['c', 'b', 'd', 'a']\n"
     ]
    }
   ],
   "source": [
    "print(D[\"A\"])"
   ]
  },
  {
   "cell_type": "markdown",
   "id": "476d084b",
   "metadata": {},
   "source": [
    "## (b)\n",
    "\n",
    "What python data structure(s) would you use to represent a “matching” such as (Aa,Bb,Cc,Dd) as introduced on page 1 ? Explain and justify your choice."
   ]
  },
  {
   "cell_type": "markdown",
   "id": "fdb7d9db",
   "metadata": {},
   "source": [
    "### Answer\n",
    "\n",
    "We choose to represent a 'matching' as a nested list, where each internal list contains 2 strings representing a male and female (or so called matching). We choose this data structure since lists are mutable, and we will need to change (or update) the matchings as we progress through the problem until we reach one which is so called 'stable'.  \n",
    "\n",
    "For example, for the matching (Aa,Bb,Cc,Dd) we obtain:"
   ]
  },
  {
   "cell_type": "code",
   "execution_count": 71,
   "id": "3bcac00c",
   "metadata": {},
   "outputs": [
    {
     "name": "stdout",
     "output_type": "stream",
     "text": [
      "[['A', 'a'], ['B', 'b'], ['C', 'c'], ['D', 'd']]\n"
     ]
    }
   ],
   "source": [
    "#Example 1\n",
    "matching = [['A','a'], ['B','b'], ['C','c'], ['D','d']]\n",
    "print(matching)"
   ]
  },
  {
   "cell_type": "markdown",
   "id": "f2e35953",
   "metadata": {},
   "source": [
    "In particular, we choose not to represent matchings as a list of tuples because tuples are immutable.  Say we want to update the matching to (Ab, Ba, Cc, Dd). This is easily done using the data structure I have described above. However, we would run into errors if we use a list of tuples. Let us describe what we mean by this in the following code:"
   ]
  },
  {
   "cell_type": "code",
   "execution_count": 72,
   "id": "04792333",
   "metadata": {},
   "outputs": [
    {
     "name": "stdout",
     "output_type": "stream",
     "text": [
      "[('A', 'a'), ('B', 'b'), ('C', 'c'), ('D', 'd')]\n"
     ]
    },
    {
     "ename": "TypeError",
     "evalue": "'tuple' object does not support item assignment",
     "output_type": "error",
     "traceback": [
      "\u001b[1;31m---------------------------------------------------------------------------\u001b[0m",
      "\u001b[1;31mTypeError\u001b[0m                                 Traceback (most recent call last)",
      "\u001b[1;32m~\\AppData\\Local\\Temp/ipykernel_56312/1491690946.py\u001b[0m in \u001b[0;36m<module>\u001b[1;34m\u001b[0m\n\u001b[0;32m      2\u001b[0m \u001b[0mmatching\u001b[0m \u001b[1;33m=\u001b[0m \u001b[1;33m[\u001b[0m\u001b[1;33m(\u001b[0m\u001b[1;34m'A'\u001b[0m\u001b[1;33m,\u001b[0m\u001b[1;34m'a'\u001b[0m\u001b[1;33m)\u001b[0m\u001b[1;33m,\u001b[0m \u001b[1;33m(\u001b[0m\u001b[1;34m'B'\u001b[0m\u001b[1;33m,\u001b[0m\u001b[1;34m'b'\u001b[0m\u001b[1;33m)\u001b[0m\u001b[1;33m,\u001b[0m \u001b[1;33m(\u001b[0m\u001b[1;34m'C'\u001b[0m\u001b[1;33m,\u001b[0m\u001b[1;34m'c'\u001b[0m\u001b[1;33m)\u001b[0m\u001b[1;33m,\u001b[0m \u001b[1;33m(\u001b[0m\u001b[1;34m'D'\u001b[0m\u001b[1;33m,\u001b[0m\u001b[1;34m'd'\u001b[0m\u001b[1;33m)\u001b[0m\u001b[1;33m]\u001b[0m\u001b[1;33m\u001b[0m\u001b[1;33m\u001b[0m\u001b[0m\n\u001b[0;32m      3\u001b[0m \u001b[0mprint\u001b[0m\u001b[1;33m(\u001b[0m\u001b[0mmatching\u001b[0m\u001b[1;33m)\u001b[0m\u001b[1;33m\u001b[0m\u001b[1;33m\u001b[0m\u001b[0m\n\u001b[1;32m----> 4\u001b[1;33m \u001b[0mmatching\u001b[0m\u001b[1;33m[\u001b[0m\u001b[1;36m0\u001b[0m\u001b[1;33m]\u001b[0m\u001b[1;33m[\u001b[0m\u001b[1;36m1\u001b[0m\u001b[1;33m]\u001b[0m \u001b[1;33m=\u001b[0m \u001b[1;34m'b'\u001b[0m\u001b[1;33m\u001b[0m\u001b[1;33m\u001b[0m\u001b[0m\n\u001b[0m\u001b[0;32m      5\u001b[0m \u001b[0mmatching\u001b[0m\u001b[1;33m[\u001b[0m\u001b[1;36m1\u001b[0m\u001b[1;33m]\u001b[0m\u001b[1;33m[\u001b[0m\u001b[1;36m1\u001b[0m\u001b[1;33m]\u001b[0m \u001b[1;33m=\u001b[0m \u001b[1;34m'a'\u001b[0m\u001b[1;33m\u001b[0m\u001b[1;33m\u001b[0m\u001b[0m\n\u001b[0;32m      6\u001b[0m \u001b[0mprint\u001b[0m\u001b[1;33m(\u001b[0m\u001b[0mmatching\u001b[0m\u001b[1;33m)\u001b[0m\u001b[1;33m\u001b[0m\u001b[1;33m\u001b[0m\u001b[0m\n",
      "\u001b[1;31mTypeError\u001b[0m: 'tuple' object does not support item assignment"
     ]
    }
   ],
   "source": [
    "#Example using list of tuples:\n",
    "matching = [('A','a'), ('B','b'), ('C','c'), ('D','d')]\n",
    "print(matching)\n",
    "matching[0][1] = 'b'\n",
    "matching[1][1] = 'a'\n",
    "print(matching)"
   ]
  },
  {
   "cell_type": "code",
   "execution_count": 73,
   "id": "e6759e10",
   "metadata": {},
   "outputs": [
    {
     "name": "stdout",
     "output_type": "stream",
     "text": [
      "[['A', 'a'], ['B', 'b'], ['C', 'c'], ['D', 'd']]\n",
      "[['A', 'b'], ['B', 'a'], ['C', 'c'], ['D', 'd']]\n"
     ]
    }
   ],
   "source": [
    "#Example using nested list:\n",
    "import os\n",
    "matching = [['A','a'], ['B','b'], ['C','c'], ['D','d']]\n",
    "print(matching)\n",
    "matching[0][1] = 'b'\n",
    "matching[1][1] = 'a'\n",
    "#print updated matching\n",
    "print(matching)"
   ]
  },
  {
   "cell_type": "markdown",
   "id": "6ced66df",
   "metadata": {},
   "source": [
    "## Task 3\n",
    "Write a python function which takes two lists of distinct and mutually disjoint symbols (of the same length) and which produces a pair of random preference tables as output."
   ]
  },
  {
   "cell_type": "markdown",
   "id": "32ae9ffa",
   "metadata": {},
   "source": [
    "## Answer\n",
    "\n",
    "We choose to use the random.sample method from the random package since this will return a list of random items of length 4 (we specify 4 here)."
   ]
  },
  {
   "cell_type": "markdown",
   "id": "4c00ec47",
   "metadata": {},
   "source": [
    "### Function Description (for Replicability)\n",
    "\n",
    "\n",
    "##### Purpose: \n",
    "This function is used to generate a pair of random preference tables (as described on page 1 of the stable marriage problem)\n",
    "\n",
    "##### Inputs: \n",
    "2 lists of equal length containing distinct and mutually disjoint symbols\n",
    "\n",
    "##### Method: \n",
    "- Creates 2 dictionaries. \n",
    "- The keys for each dictionary are the elements of the respective lists (i.e. one dictionary for each list). \n",
    "- The values of each dictionary are a random sample of the keys in the other dictionary. \n",
    "- We use random.sample to generate these random samples. \n",
    "\n",
    "##### Outputs: \n",
    "2 dictionaries\n",
    "\n"
   ]
  },
  {
   "cell_type": "code",
   "execution_count": 100,
   "id": "eea315cf",
   "metadata": {},
   "outputs": [],
   "source": [
    "import random\n",
    "def random_preferences(list1, list2) :\n",
    "    p1 = { i : random.sample(list1,len(list1)) for i in list2}\n",
    "    p2 = { i : random.sample(list2,len(list2)) for i in list1}\n",
    "    return(p1,p2)"
   ]
  },
  {
   "cell_type": "markdown",
   "id": "e4caddd7",
   "metadata": {},
   "source": [
    "### Demonstration\n",
    "The following code checks that the function produces a reasonable output for the scenario given in page 1 of the paper."
   ]
  },
  {
   "cell_type": "code",
   "execution_count": 113,
   "id": "e69f2384",
   "metadata": {},
   "outputs": [
    {
     "data": {
      "text/plain": [
       "({'A': ['d', 'a', 'c', 'b'],\n",
       "  'B': ['a', 'c', 'd', 'b'],\n",
       "  'C': ['c', 'a', 'd', 'b'],\n",
       "  'D': ['a', 'b', 'c', 'd']},\n",
       " {'a': ['B', 'A', 'C', 'D'],\n",
       "  'b': ['A', 'C', 'B', 'D'],\n",
       "  'c': ['A', 'C', 'B', 'D'],\n",
       "  'd': ['A', 'C', 'D', 'B']})"
      ]
     },
     "execution_count": 113,
     "metadata": {},
     "output_type": "execute_result"
    }
   ],
   "source": [
    "random.seed(1234)\n",
    "\n",
    "list1 = ['a','b','c','d']\n",
    "list2 = ['A','B','C','D']\n",
    "check = random_preferences(list1, list2)\n",
    "check"
   ]
  },
  {
   "cell_type": "code",
   "execution_count": 114,
   "id": "96ba5389",
   "metadata": {},
   "outputs": [],
   "source": [
    "random.seed(1234)\n",
    "\n",
    "#Reproducibility check\n",
    "#assertion test for random number seed\n",
    "\n",
    "assert check == ({'A': ['d', 'a', 'c', 'b'],\n",
    "  'B': ['a', 'c', 'd', 'b'],\n",
    "  'C': ['c', 'a', 'd', 'b'],\n",
    "  'D': ['a', 'b', 'c', 'd']},\n",
    " {'a': ['B', 'A', 'C', 'D'],\n",
    "  'b': ['A', 'C', 'B', 'D'],\n",
    "  'c': ['A', 'C', 'B', 'D'],\n",
    "  'd': ['A', 'C', 'D', 'B']})"
   ]
  },
  {
   "cell_type": "markdown",
   "id": "950f3b9d",
   "metadata": {},
   "source": [
    "## Task 4\n",
    "\n",
    "Write a python function that takes a pair of preference tables and tests if the tables are valid i.e, correspond correctly to each other in terms of dimension and content. The function should return true if they are valid and false otherwise (i.e it is a decision problem)."
   ]
  },
  {
   "cell_type": "markdown",
   "id": "35313da9",
   "metadata": {},
   "source": [
    "## Answer\n",
    "\n",
    "#### Reminder: I have chosen to represent the preference tables as python dictionaries.\n",
    "Therefore, we say that a pair of preference tables are valid if the sorted list of values in one dictionary is equal to the list of keys in the other. Checking for validity in this way, we check that the preference tables correspond correctly to each other in terms of both dimension and content. \n"
   ]
  },
  {
   "cell_type": "markdown",
   "id": "e2b49766",
   "metadata": {},
   "source": [
    "### Function Description (for Replicability)\n",
    "\n",
    "\n",
    "##### Purpose: \n",
    "This function is used to test if a pair of preference tables is valid or not  (i.e. correspond correctly to each other in terms of dimension and content).\n",
    "\n",
    "##### Inputs: \n",
    "2 preference tables (i.e. 2 dictionaries like the ones constructed by the ‘Random Preferences’ function)\n",
    "\n",
    "##### Method: \n",
    "- check to see if the sorted list of values in one dictionary is equal to the list of keys in the other. Do this check for both dictionaries. \n",
    "\n",
    "##### Outputs: \n",
    "Returns true if this is found to be the case and false otherwise. An output of true corresponds to the pair of preference tables being valid.\n",
    "\n",
    "The following function tests if a pair of preference tables are valid:\n",
    "\n"
   ]
  },
  {
   "cell_type": "code",
   "execution_count": 115,
   "id": "e0e6793a",
   "metadata": {},
   "outputs": [],
   "source": [
    "def valid(p1,p2) : \n",
    "    for i in range(len(p2.values())):\n",
    "        if sorted(list(p2.values())[i]) == list(p1.keys()) and sorted(list(p1.values())[i]) == list(p2.keys()) :\n",
    "            valid = True\n",
    "        else:\n",
    "            valid = False\n",
    "    return valid\n",
    "    "
   ]
  },
  {
   "cell_type": "markdown",
   "id": "7fca3fc8",
   "metadata": {},
   "source": [
    "### Demonstration\n",
    "\n",
    "To demonstrate that my function works correctly using the example preferences from lecture 1 of Stable Marriage and its Relation to Other Combinatorial Problems."
   ]
  },
  {
   "cell_type": "code",
   "execution_count": 116,
   "id": "d1ffdffb",
   "metadata": {},
   "outputs": [
    {
     "data": {
      "text/plain": [
       "True"
      ]
     },
     "execution_count": 116,
     "metadata": {},
     "output_type": "execute_result"
    }
   ],
   "source": [
    "p1,p2 = random_preferences(list1, list2) \n",
    "valid(p1,p2)"
   ]
  },
  {
   "cell_type": "markdown",
   "id": "eacfb8ab",
   "metadata": {},
   "source": [
    "## Task 5\n",
    "Write a python function that takes a pair of preference tables and a matching, and tests if the given matching is stable with respect to the preference tables. The function should return true if the matching is stable, false otherwise (i.e it is a decision problem)."
   ]
  },
  {
   "cell_type": "markdown",
   "id": "b28de25c",
   "metadata": {},
   "source": [
    "## Answer\n",
    "A matching is said to be unstable with respect to the preference table if a man A and a woman a , not married to each other, mutually prefer each other to their spouses.\n",
    "\n",
    "A matching is stable if this situation does not occur.\n",
    "\n",
    "It suffices to consider each memeber of one sex, say the women, as a potential member of a blocking pair. For each woman, only the man that she prefers to her partner needs to be checked. We have 4 women, so at most 3 men need to be examined"
   ]
  },
  {
   "cell_type": "markdown",
   "id": "907b15c2",
   "metadata": {},
   "source": [
    "### Function Description (for Replicability)\n",
    "\n",
    "\n",
    "##### Purpose: \n",
    "This function is used to test if a matching for a given pair of preference tables is stable or not.\n",
    "\n",
    "##### Inputs: \n",
    "a pair of preference tables (2 dictionaries) and a matching (list of lists)\n",
    "\n",
    "##### Method: \n",
    "- Create an empty list to store values of true/false corresponding to if a match is stable or not.\n",
    "- Iterate over the women \n",
    "- Consider the current matching of woman and get a list of men she prefers (preference list) to her current partner\n",
    "- Then iterate over the men in this women’s preference list\n",
    "- Get his current matching and the list of women he would prefer to his current partner\n",
    "- If woman is found to be in this mans preference list then append false to list – matching declared unstable\n",
    "- Otherwise append true\n",
    "- Use all() command to check if any false in list\n",
    "\n",
    "##### Outputs: \n",
    "Boolean value – True corresponds to stable, false - unstable\n"
   ]
  },
  {
   "cell_type": "code",
   "execution_count": 78,
   "id": "0368a6a4",
   "metadata": {},
   "outputs": [],
   "source": [
    "def stable(p1,p2,m) :\n",
    "    #create empty list to store true or falses \n",
    "    l=[]\n",
    "    #iterate over women\n",
    "    for i in list(p2.keys()) :\n",
    "            \n",
    "            #get current matching of woman i\n",
    "            g=[t[0] for t in m if t[1] == i]\n",
    "       \n",
    "            #get list of men woman i prefers to her current partner\n",
    "            #p2.get(i) gets the order of preference for woman i\n",
    "            #use .index to slice the list to only contain elements before current male partner\n",
    "            pref_w = p2.get(i)[:p2.get(i).index(g[0])] \n",
    "            \n",
    "            #iterate over men in woman i's preference list\n",
    "            for j in pref_w:\n",
    "            #for man in womans preference list, if he prefers her to his current partner\n",
    "            #then report unstable\n",
    "            \n",
    "                #get current matching of man j in woman's preference list\n",
    "                h=[t[1] for t in m if t[0] == j]\n",
    "            \n",
    "                #get preference list for each man in women's list\n",
    "                pref_m = p1.get(j)[:p1.get(j).index(h[0])]\n",
    "                \n",
    "                #if he prefers woman i to his current partner then report unstable\n",
    "                #i.e. add 'False' to list l to indicate unstable matching\n",
    "                \n",
    "                if i in pref_m:\n",
    "                    l.append(False)\n",
    "                else:\n",
    "                    l.append(True)\n",
    "            \n",
    "    \n",
    "    #check if any falses in list l       \n",
    "    #all command returns true if all elements are true\n",
    "    stable = all(l) \n",
    "    return stable\n",
    "        "
   ]
  },
  {
   "cell_type": "markdown",
   "id": "4de7eb09",
   "metadata": {},
   "source": [
    "### Demonstration\n",
    "\n",
    "I demonstrate that the function works correctly by using the example preferences and matchings from lecture 1 of 'Stable Marriage and its Relation to other Combinatorial Problems. In particular, I confirm the stability (or instability) of matchings provided in the table at the top of page 2. "
   ]
  },
  {
   "cell_type": "code",
   "execution_count": 79,
   "id": "31920f69",
   "metadata": {},
   "outputs": [
    {
     "name": "stdout",
     "output_type": "stream",
     "text": [
      "True\n",
      "False\n",
      "False\n",
      "False\n"
     ]
    }
   ],
   "source": [
    "#set to preference table in paper\n",
    "p1 = {'A': ['c', 'b', 'd', 'a'], 'B': ['b', 'a', 'c', 'd'], 'C': ['b', 'd', 'a', 'c'], 'D': ['c', 'a', 'd', 'b']}\n",
    "p2 = {'a':['A','B','D','C'], 'b':['C','A','D','B'], 'c':['C','B','D','A'], 'd':['B','A','C','D']}\n",
    "\n",
    "m1 = [['A','d'], ['B','a'], ['C','b'], ['D','c']] #stable matching\n",
    "m2 = [['A','a'], ['B','b'], ['C','c'], ['D','d']] #unstable matching\n",
    "m3 = [['A','b'], ['B','a'], ['C','c'], ['D','d']] #unstable matching\n",
    "m4 = [['A','c'], ['B','a'], ['C','b'], ['D','d']] #unstable matching\n",
    "\n",
    "print(stable(p1,p2,m1))\n",
    "print(stable(p1,p2,m2))\n",
    "print(stable(p1,p2,m3))\n",
    "print(stable(p1,p2,m4))\n"
   ]
  },
  {
   "cell_type": "markdown",
   "id": "7fd34fbc",
   "metadata": {},
   "source": [
    "## Task 6\n",
    "\n",
    "Write a function that takes a pair of preference tables and a matching, and which scores the matching for both men and women. The function should return the two scores. The scores are the sum of the ranked preferences of the pairings for each group (male / female) in the matching."
   ]
  },
  {
   "cell_type": "markdown",
   "id": "928c5191",
   "metadata": {},
   "source": [
    "### Function Description (for Replicability)\n",
    "\n",
    "\n",
    "##### Purpose: \n",
    "This function scores a given matching for a pair of preference tables.\n",
    "\n",
    "##### Inputs: \n",
    "a pair of preference tables (2 dictionaries) and a matching (list of lists)\n",
    "\n",
    "##### Method: \n",
    "- Create 2 empty lists to store scores for males/females\n",
    "- Iterate over keys in dictionaries\n",
    "- Get current matching for each man and woman\n",
    "- Get index corresponding to current matching in each man/women’s preference list and add 1 since we want to rank from 1,…,4. \n",
    "- Append scores to lists\n",
    "- Return the sum of the lists\n",
    "\n",
    "\n",
    "##### Outputs: \n",
    "tuple containing score for males and females.\n"
   ]
  },
  {
   "cell_type": "code",
   "execution_count": 80,
   "id": "5aada0b7",
   "metadata": {},
   "outputs": [],
   "source": [
    "def score2(p1,p2,m) :\n",
    "    \n",
    "    #empty lists for ranks\n",
    "    score_w=[] #women\n",
    "    score_m =[] #men\n",
    "    \n",
    "    for i,j in list(zip(p1.keys(),p2.keys())) :\n",
    "            \n",
    "            #get current matching for woman i\n",
    "            g = [t[0] for t in m if t[1] == j][0]\n",
    "            \n",
    "            #get matching for man \n",
    "            #h = [t[1] for t in m if t[1] == j][0]\n",
    "            h = [t[1] for t in m if t[0] == i][0]\n",
    "            #need to get index of current matching in woman i's preference list\n",
    "            #add 1 because we index from zero but want to rank from 1,...,4\n",
    "    \n",
    "            score_w.append(p2.get(j).index(g) + 1)\n",
    "            score_m.append(p1.get(i).index(h) + 1)\n",
    "            \n",
    "    return (sum(score_w), sum(score_m))"
   ]
  },
  {
   "cell_type": "code",
   "execution_count": 117,
   "id": "b3a88f8c",
   "metadata": {},
   "outputs": [
    {
     "name": "stdout",
     "output_type": "stream",
     "text": [
      "(8, 7)\n"
     ]
    }
   ],
   "source": [
    "p1 = {'A': ['c', 'b', 'd', 'a'], 'B': ['b', 'a', 'c', 'd'], 'C': ['b', 'd', 'a', 'c'], 'D': ['c', 'a', 'd', 'b']}\n",
    "p2 = {'a':['A','B','D','C'], 'b':['C','A','D','B'], 'c':['C','B','D','A'], 'd':['B','A','C','D']}\n",
    "\n",
    "m1 = [['A','d'], ['B','a'], ['C','b'], ['D','c']] #stable matching\n",
    "\n",
    "print(score2(p1,p2,m1)) #Expect 2+2+1+3=8 and 3+2+1+1=7 \n"
   ]
  },
  {
   "cell_type": "markdown",
   "id": "980b2f46",
   "metadata": {},
   "source": [
    "## Task 7\n",
    "\n",
    "### Part a)\n",
    "\n",
    "Explain how you could include the “very undesirable” imaginary man introduced on page 9 into your representation of the preference tables."
   ]
  },
  {
   "cell_type": "markdown",
   "id": "398d6038",
   "metadata": {},
   "source": [
    "### Answer"
   ]
  },
  {
   "cell_type": "markdown",
   "id": "6363eda7",
   "metadata": {},
   "source": [
    "We could add omega to the end of the list of preferences of each woman. For example:"
   ]
  },
  {
   "cell_type": "code",
   "execution_count": 82,
   "id": "009b9439",
   "metadata": {},
   "outputs": [
    {
     "data": {
      "text/plain": [
       "{'a': ['A', 'B', 'D', 'C', 'omega'],\n",
       " 'b': ['C', 'A', 'D', 'B', 'omega'],\n",
       " 'c': ['C', 'B', 'D', 'A', 'omega'],\n",
       " 'd': ['B', 'A', 'C', 'D', 'omega']}"
      ]
     },
     "execution_count": 82,
     "metadata": {},
     "output_type": "execute_result"
    }
   ],
   "source": [
    "p2 = {'a':['A','B','D','C'], 'b':['C','A','D','B'], 'c':['C','B','D','A'], 'd':['B','A','C','D']}\n",
    "[list((p2.values()))[i].append('omega') for i in range(4)]\n",
    "p2\n"
   ]
  },
  {
   "cell_type": "markdown",
   "id": "90b22b6a",
   "metadata": {},
   "source": [
    "### Part b)\n",
    "\n",
    "Implement the fundamental algorithm described on page 9 as a Python function. Your function should take a (compatible) pair of preference tables as input and produce a (stable) matching as an output."
   ]
  },
  {
   "cell_type": "markdown",
   "id": "e969fee7",
   "metadata": {},
   "source": [
    "### Function Description (for Replicability)\n",
    "\n",
    "\n",
    "##### Purpose: \n",
    "This function implements the fundamental algorithm (as described on page 9) and its aim is to find a stable matching for a given pair of preference tables. \n",
    "\n",
    "##### Inputs: \n",
    "a pair of preference tables (2 dictionaries) and a matching (list of lists)\n",
    "\n",
    "##### Method: \n",
    "- Create initial nested list of matchings. All females are temporarily engaged to very undesirable man denoted by ‘omega’.\n",
    "- Add ‘omega’ to the end of the list of preferences of each woman\n",
    "- Implements pseudo code of fundamental algorithm (as described on page 9).\n",
    "\n",
    "\n",
    "\n",
    "##### Outputs: \n",
    "Stable matching as a list of lists."
   ]
  },
  {
   "cell_type": "code",
   "execution_count": 83,
   "id": "7a3be7bd",
   "metadata": {},
   "outputs": [],
   "source": [
    "def fundamental_algorithm(p1,p2) :\n",
    "    \n",
    "    #all women temporariliy engageed to undesirable man\n",
    "    #hence initial matchings are:\n",
    "    \n",
    "    m =[['omega',i] for i in sorted(list(p1.values())[0])]\n",
    "    \n",
    "    k = 0 \n",
    "    n = len(p2)\n",
    "\n",
    "    #add omega to end of the list of preferences of each woman\n",
    "    [list((p2.values()))[i].append('omega') for i in range(n)]\n",
    "    \n",
    "    \n",
    "    #while not all men have matches\n",
    "    while k < n :\n",
    "        X = (list(p1.keys())[k])\n",
    "        \n",
    "        while X != 'omega' :\n",
    "            \n",
    "            # X's list of preferences\n",
    "            preference_list = p1.get(X)\n",
    "            \n",
    "            #get best choice\n",
    "            x = preference_list[0]\n",
    "            \n",
    "            #current partner of women x is:\n",
    "            #[0] because we need the string not the list containing string\n",
    "            h = [t[0] for t in m if t[1] == x][0]\n",
    "            \n",
    "    \n",
    "            pref_w = p2.get(x)[:p2.get(x).index(h)] \n",
    "            \n",
    "            #if woman prefers X to her fiance...\n",
    "            if X in pref_w:\n",
    "                \n",
    "                #find index of x in nested m list\n",
    "                ind = m.index([t for t in m if t[1] == x][0])\n",
    "                \n",
    "                #then update match. i.e. engage X and x\n",
    "                m[ind][0] = X\n",
    "            \n",
    "                #X becomes preceding fiance of x\n",
    "                X = h\n",
    "            \n",
    "            if X != 'omega':\n",
    "                p1.get(X).remove(x)\n",
    "                X = X\n",
    "            \n",
    "            \n",
    "        k = k + 1\n",
    "    \n",
    "    return sorted(m)\n",
    "    \n",
    "    \n",
    "    \n",
    "    "
   ]
  },
  {
   "cell_type": "markdown",
   "id": "03b926cc",
   "metadata": {},
   "source": [
    "### Demonstration 1\n",
    "\n",
    "I checked the out-put of my implementation of the fundamental algorithm using the preference tables given in page 1 of the paper. The code below verifies that the same matchings are the same."
   ]
  },
  {
   "cell_type": "code",
   "execution_count": 84,
   "id": "3d0e3354",
   "metadata": {},
   "outputs": [
    {
     "data": {
      "text/plain": [
       "[['A', 'd'], ['B', 'a'], ['C', 'b'], ['D', 'c']]"
      ]
     },
     "execution_count": 84,
     "metadata": {},
     "output_type": "execute_result"
    }
   ],
   "source": [
    "p1 = {'A': ['c', 'b', 'd', 'a'], 'B': ['b', 'a', 'c', 'd'], 'C': ['b', 'd', 'a', 'c'], 'D': ['c', 'a', 'd', 'b']}\n",
    "p2 = {'a':['A','B','D','C'], 'b':['C','A','D','B'], 'c':['C','B','D','A'], 'd':['B','A','C','D']}\n",
    "\n",
    "fundamental_algorithm(p1,p2)"
   ]
  },
  {
   "cell_type": "markdown",
   "id": "057bee96",
   "metadata": {},
   "source": [
    "### Demonstration 2\n",
    "\n",
    "- Generate random preference tables using code from task 3\n",
    "- run fundamental algorithm with these preference tables\n",
    "- check stability of the matching w.r.t. the preference tables using code from task 5 "
   ]
  },
  {
   "cell_type": "code",
   "execution_count": 124,
   "id": "02ebb1c0",
   "metadata": {},
   "outputs": [
    {
     "name": "stdout",
     "output_type": "stream",
     "text": [
      "[['A', 'd'], ['B', 'a'], ['C', 'c'], ['D', 'b']]\n"
     ]
    },
    {
     "data": {
      "text/plain": [
       "True"
      ]
     },
     "execution_count": 124,
     "metadata": {},
     "output_type": "execute_result"
    }
   ],
   "source": [
    "random.seed(1234)\n",
    "\n",
    "#step1: generate random preference tables\n",
    "\n",
    "list1 = ['a','b','c','d']\n",
    "list2 = ['A','B','C','D']\n",
    "\n",
    "#use function from task 3\n",
    "p1,p2 = random_preferences(list1, list2)\n",
    "\n",
    "#step 2: run algorithm with these preference tables\n",
    "m = fundamental_algorithm(p1,p2)\n",
    "print(m)\n",
    "\n",
    "#step 3: check output of algorithm is a stable matching\n",
    "#use stable function from task 5\n",
    "stable(p1,p2,m)\n"
   ]
  },
  {
   "cell_type": "code",
   "execution_count": 125,
   "id": "0248dc71",
   "metadata": {},
   "outputs": [],
   "source": [
    "#Replicability check \n",
    "#assertion test for random number seed\n",
    "\n",
    "assert m == [['A', 'd'], ['B', 'a'], ['C', 'c'], ['D', 'b']]"
   ]
  },
  {
   "cell_type": "markdown",
   "id": "07fcdec2",
   "metadata": {},
   "source": [
    "## Task 8\n",
    "\n",
    "Use your solutions to Task 3 and Task 7 to determine how the execution time of your implementation of the fundamental algorithm varies with the size of the preference table. Is this relationship consistent with your expectations ? Justify your reasoning with reference to your implementation of the algorithm and your experimental observations.\n"
   ]
  },
  {
   "cell_type": "markdown",
   "id": "40c61379",
   "metadata": {},
   "source": [
    "### Function Description (for Replicability)\n",
    "\n",
    "\n",
    "##### Purpose: \n",
    "This function is used to determine the time taken to execute the implementation of the fundamental algorithm. \n",
    "##### Inputs: \n",
    "2 lists of equal length containing distinct and mutually disjoint symbols\n",
    "##### Method: \n",
    "- Generates random preference tables for lists given as inputs\n",
    "- Then records time taken to perform fundamental algorithm\n",
    "\n",
    "##### Outputs: \n",
    "Time taken to perform fundamental algorithm."
   ]
  },
  {
   "cell_type": "code",
   "execution_count": 87,
   "id": "6699c392",
   "metadata": {},
   "outputs": [],
   "source": [
    "import time\n",
    "def timer(list1, list2) : \n",
    "    times=[]\n",
    "    while len(list1) > 3 :\n",
    "        \n",
    "        #generate random preference table\n",
    "        p1,p2 = random_preferences(list1, list2)\n",
    "        \n",
    "        start = time.perf_counter()\n",
    "        fundamental_algorithm(p1,p2)\n",
    "        end = time.perf_counter()\n",
    "        \n",
    "        #remove one each time\n",
    "        list1 = list1[:-1]\n",
    "        list2 = list2[:-1]\n",
    "        \n",
    "        v = end-start\n",
    "        times.append(v)\n",
    "    return times"
   ]
  },
  {
   "cell_type": "code",
   "execution_count": 88,
   "id": "be8d37cd",
   "metadata": {},
   "outputs": [],
   "source": [
    "import plotnine as p9\n",
    "from plotnine import ggplot, aes, geom_line, geom_point, xlab, ylab\n",
    "import pandas as pd\n",
    "import numpy as np "
   ]
  },
  {
   "cell_type": "code",
   "execution_count": 89,
   "id": "719c915f",
   "metadata": {},
   "outputs": [
    {
     "name": "stdout",
     "output_type": "stream",
     "text": [
      "    Computation Time  Preference Table size\n",
      "0           0.000013                      4\n",
      "1           0.000018                      5\n",
      "2           0.000024                      6\n",
      "3           0.000030                      7\n",
      "4           0.000036                      8\n",
      "..               ...                    ...\n",
      "92          0.004150                     96\n",
      "93          0.004184                     97\n",
      "94          0.004264                     98\n",
      "95          0.004447                     99\n",
      "96          0.004450                    100\n",
      "\n",
      "[97 rows x 2 columns]\n"
     ]
    },
    {
     "data": {
      "image/png": "[encoded data removed]",
      "text/plain": [
       "<Figure size 640x480 with 1 Axes>"
      ]
     },
     "metadata": {},
     "output_type": "display_data"
    },
    {
     "data": {
      "text/plain": [
       "<ggplot: (135983210701)>"
      ]
     },
     "execution_count": 89,
     "metadata": {},
     "output_type": "execute_result"
    }
   ],
   "source": [
    "list1 = [\"M\"+str(i) for i in range(100)]\n",
    "list2 = [\"F\"+str(i) for i in range(100)] \n",
    "\n",
    "l=[[]]\n",
    "for i in range(100) :\n",
    "    times = timer(list1,list2)\n",
    "    l.append(times)\n",
    "\n",
    "l.remove(l[0]) #remove first empty list \n",
    "\n",
    "df = pd.DataFrame(l) \n",
    "h=df.mean(axis=0)\n",
    "h=h.tolist()\n",
    "\n",
    "#reverse list\n",
    "h=h[::-1]\n",
    "\n",
    "Y = np.arange(4,101,1)\n",
    "\n",
    "df2 = pd.DataFrame({\"Computation Time\" : h, \"Preference Table size\":Y})\n",
    "print(df2)\n",
    "\n",
    "(\n",
    "    ggplot(df2)  # What data to use\n",
    "    + aes(x=\"Preference Table size\", y=\"Computation Time\")  # What variable to use\n",
    "    + geom_line()  # Geometric object to use for drawing\n",
    ")"
   ]
  },
  {
   "cell_type": "markdown",
   "id": "cbecab99",
   "metadata": {},
   "source": [
    "### Explanation\n",
    "\n",
    "The plot above shows that the execution time grows somewhat quadratically as we increase the dimensions of the preference tables from [4x4] to [100x100]. \n",
    "\n",
    "This is unsurprsing since the algorithm consists of 2 nested while loops which is indicative of quadratic running time.\n",
    "\n",
    "#### Time Complexity Analysis\n",
    "- line 1-4: 4 operations\n",
    "- line 5-7: double while loop\n",
    "- line 8-18: 11 operations within double loop\n",
    "\n",
    "Therefore, we get 11n^2 + 4. So in big O notation, the complexity of the algorithm would be O(n^2) which is consistent with our findings in the graph above."
   ]
  },
  {
   "cell_type": "markdown",
   "id": "10e519b7",
   "metadata": {},
   "source": [
    "More information can be found here:\n",
    "\n",
    "https://adrianmejia.com/most-popular-algorithms-time-complexity-every-programmer-should-know-free-online-tutorial-course/#O-n-2-Quadratic-time"
   ]
  },
  {
   "cell_type": "markdown",
   "id": "20fab3e7",
   "metadata": {},
   "source": [
    "## Task 9 \n",
    "\n",
    "Use your solutions to Task 3 and Task 7 to the examine how the score for of stable matchings obtained using the fundamental algorithm are distributed for randomised preference tables. Discuss and summarise your findings."
   ]
  },
  {
   "cell_type": "code",
   "execution_count": 133,
   "id": "fda8e012",
   "metadata": {},
   "outputs": [],
   "source": [
    "import copy"
   ]
  },
  {
   "cell_type": "code",
   "execution_count": 134,
   "id": "982adcbe",
   "metadata": {},
   "outputs": [],
   "source": [
    "random.seed(1234)\n",
    "women_score = []\n",
    "men_score = []\n",
    "\n",
    "list1 = [\"M\"+str(i) for i in range(100)]\n",
    "list2 = [\"F\"+str(i) for i in range(100)] \n",
    "\n",
    "for i in range(1000): \n",
    "    p1,p2 = random_preferences(list1,list2)\n",
    "\n",
    "    newp1 = copy.deepcopy(p1)\n",
    "    newp2 = copy.deepcopy(p2)\n",
    "\n",
    "    m = fundamental_algorithm(p1,p2)\n",
    "    \n",
    "    women_score.append(score2(newp1,newp2,m)[0]) \n",
    "    men_score.append(score2(newp1,newp2,m)[1]) "
   ]
  },
  {
   "cell_type": "code",
   "execution_count": 135,
   "id": "fc06fbbf",
   "metadata": {},
   "outputs": [],
   "source": [
    "#Replicability check\n",
    "#assertion test for random number seed\n",
    "\n",
    "total = sum(women_score) + sum(men_score)\n",
    "\n",
    "assert total == 2539933"
   ]
  },
  {
   "cell_type": "code",
   "execution_count": 136,
   "id": "56535e0e",
   "metadata": {},
   "outputs": [
    {
     "data": {
      "text/plain": [
       "Text(0.5, 1.0, 'Male Scores')"
      ]
     },
     "execution_count": 136,
     "metadata": {},
     "output_type": "execute_result"
    },
    {
     "data": {
      "image/png": "[encoded data removed]",
      "text/plain": [
       "<Figure size 432x288 with 2 Axes>"
      ]
     },
     "metadata": {
      "needs_background": "light"
     },
     "output_type": "display_data"
    }
   ],
   "source": [
    "import matplotlib.pyplot as plt\n",
    "import numpy as np\n",
    "\n",
    "plt.subplot(1,2,1)\n",
    "plt.hist(women_score,color='blue')\n",
    "plt.title('Female Scores')\n",
    "plt.subplot(1,2,2)\n",
    "plt.hist(men_score, color='blue')\n",
    "plt.title('Male Scores')"
   ]
  },
  {
   "cell_type": "code",
   "execution_count": 137,
   "id": "9eea8a5c",
   "metadata": {},
   "outputs": [
    {
     "data": {
      "image/png": "[encoded data removed]",
      "text/plain": [
       "<Figure size 640x480 with 1 Axes>"
      ]
     },
     "metadata": {},
     "output_type": "display_data"
    },
    {
     "name": "stdout",
     "output_type": "stream",
     "text": [
      "\n"
     ]
    }
   ],
   "source": [
    "df = pd.DataFrame({\"Women Score\": women_score, \"Men Score\": men_score})\n",
    "df\n",
    "\n",
    "p = ggplot(df,aes(x=women_score,y=men_score)) \n",
    "p1 = p + geom_point(color='blue') + ylab(\"Male Scores\") + xlab(\"Female Scores\")\n",
    "print(p1)"
   ]
  },
  {
   "cell_type": "markdown",
   "id": "237817c5",
   "metadata": {},
   "source": [
    "## Discussion and Summary of Findings\n",
    "\n",
    "### Histograms \n",
    "\n",
    "We note from the graphs above that the female scores are a lot larger than that of the males. Also, we note that the scores for females normally distributed while there is slight positive skewness in the males scores data. \n",
    "\n",
    "We suggest that the female scores are on average higher than the males because the algorithm prioritises the preferences of the males by nature. In particular, the algorithm gives the optimal result for each man attempting to match them with their most preferred (and available) female. Therefore the solution of the algorhtm is characterised as being optimal for the men. By contrast, in any stable matching, each women obtains a partner equal or superior to the one assigned to her by the algorithm. \n",
    "\n",
    "We note that the opposite of this would happen should we switch the roles of men and women. That is, if the women make the advances instead of the men then the algorithm could be used to obtain the best solution for the women resulting in lower female scores and higher male scores. \n",
    "\n",
    "### Scatter Plot\n",
    "\n",
    "The scatter plot above shows that the male and female scores are negatively correlated (i.e. when the female score increases, the male score decreases). We note that this intuitvely makes sense since we only allow the engagement between women x and suitor X if the women prefers X to her current fiance. If the women does prefer X to her current fiance then this action (i.e. getting engaged to someone more preferable) will reduce her score while simulataneously increasing the score of the current (/ex) fiance.   "
   ]
  },
  {
   "cell_type": "markdown",
   "id": "6c0b6dbd",
   "metadata": {},
   "source": [
    "## Task 10\n",
    "\n",
    "In Re-run, Repeat, Reproduce, Reuse, Replicate: Transforming Code into Scientific Contributions, Benureau and Rougier use a small python example to demonstrate how code can be augmented to improve its “scientific quality”. Conduct a brief study of their example and use/extend their ideas to improve the “scientific quality” of the python functions have developed for this assessment. Comment on how this has improved your code with respect to the 5 Rs.\n"
   ]
  },
  {
   "cell_type": "markdown",
   "id": "4a2b03ba",
   "metadata": {},
   "source": [
    "### Re-runnable\n",
    "- Details are given at the top of the notebook relating to the python version, jupyter notebook version and OS the code was tested on.\n",
    "- This means that the code is re-runnable in the sense that it describes the execution environmemt in which it is executable, and so can be run again when needed if run in this environment.\n",
    "\n",
    " \n",
    "### Repeatable\n",
    " - I have set a random number seeds where appropriate.\n",
    " - This means that the code is repeatable in the sense that the same output can be achieved over successives runs over the  program.\n",
    "\n",
    "### Reproducible\n",
    "- exact execution used to produce the results is specified.\n",
    "- All results originate from the same and last version of the code. \n",
    "- plots come from the same and latest version and code and data is given with plots.\n",
    "- Added assertions throughout to determine if random functions give outputs expected with given random number seed\n",
    "- All of the above mean that the code is reproducible since other reasearhces using the original code and data should be able to obtain the same results. \n",
    "  \n",
    "### Reusable\n",
    "- I have added comments throughout to describe what is going on.\n",
    "- I have avoided hard coding where possible\n",
    "- I have provided details of the system that the code has been tested on.\n",
    "- All of the above mean that the code I have produced is reusable in the sense that it can be easily used and modified by others \n",
    "\n",
    "### Replicable\n",
    "- I have provided a detailed description at the start of each function to describe its purpose, inputs, outputs and method.The intention of which is that researchers could read this description, and replicate the behaviour of the functions in a programming language of their choice.\n",
    "\n",
    "- This makes the code replicable in the sense that the description provided of the functions is sufficiently precise and complete to enable any results to be reproducbile from scratch."
   ]
  }
 ],
 "metadata": {
  "kernelspec": {
   "display_name": "Python 3 (ipykernel)",
   "language": "python",
   "name": "python3"
  },
  "language_info": {
   "codemirror_mode": {
    "name": "ipython",
    "version": 3
   },
   "file_extension": ".py",
   "mimetype": "text/x-python",
   "name": "python",
   "nbconvert_exporter": "python",
   "pygments_lexer": "ipython3",
   "version": "3.9.7"
  }
 },
 "nbformat": 4,
 "nbformat_minor": 5
}
